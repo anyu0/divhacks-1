{
 "cells": [
  {
   "cell_type": "markdown",
   "metadata": {},
   "source": [
    "# Statistical Analysis"
   ]
  },
  {
   "cell_type": "code",
   "execution_count": 57,
   "metadata": {
    "collapsed": true
   },
   "outputs": [],
   "source": [
    "import pandas as pd"
   ]
  },
  {
   "cell_type": "code",
   "execution_count": 58,
   "metadata": {},
   "outputs": [],
   "source": [
    "# import data\n",
    "train_data = pd.read_csv('MNIST_train.csv', index_col='ID')\n",
    "train_data_unlabeled = train_data.drop(' Label', axis=1)"
   ]
  },
  {
   "cell_type": "markdown",
   "metadata": {},
   "source": [
    "**Naive statistical analysis**\n",
    "Here, we just compute:\n",
    "- prediction accuracy for each number, averaged over all algorithms\n",
    "- accuracy of each algorithm for each number\n",
    "- "
   ]
  },
  {
   "cell_type": "code",
   "execution_count": 67,
   "metadata": {},
   "outputs": [
    {
     "name": "stdout",
     "output_type": "stream",
     "text": [
      "The median accuracy is: 0.8606042023780981.\n",
      "The mean accuracy is:   0.8670597106531208.\n"
     ]
    },
    {
     "data": {
      "text/html": [
       "<div>\n",
       "<style>\n",
       "    .dataframe thead tr:only-child th {\n",
       "        text-align: right;\n",
       "    }\n",
       "\n",
       "    .dataframe thead th {\n",
       "        text-align: left;\n",
       "    }\n",
       "\n",
       "    .dataframe tbody tr th {\n",
       "        vertical-align: top;\n",
       "    }\n",
       "</style>\n",
       "<table border=\"1\" class=\"dataframe\">\n",
       "  <thead>\n",
       "    <tr style=\"text-align: right;\">\n",
       "      <th></th>\n",
       "      <th>0</th>\n",
       "      <th>1</th>\n",
       "      <th>2</th>\n",
       "      <th>3</th>\n",
       "      <th>4</th>\n",
       "      <th>5</th>\n",
       "      <th>6</th>\n",
       "      <th>7</th>\n",
       "      <th>8</th>\n",
       "      <th>9</th>\n",
       "    </tr>\n",
       "  </thead>\n",
       "  <tbody>\n",
       "    <tr>\n",
       "      <th>percent_correct</th>\n",
       "      <td>0.897518</td>\n",
       "      <td>0.905362</td>\n",
       "      <td>0.850741</td>\n",
       "      <td>0.856436</td>\n",
       "      <td>0.864772</td>\n",
       "      <td>0.830316</td>\n",
       "      <td>0.88166</td>\n",
       "      <td>0.915099</td>\n",
       "      <td>0.822651</td>\n",
       "      <td>0.846041</td>\n",
       "    </tr>\n",
       "  </tbody>\n",
       "</table>\n",
       "</div>"
      ],
      "text/plain": [
       "                        0         1         2         3         4         5  \\\n",
       "percent_correct  0.897518  0.905362  0.850741  0.856436  0.864772  0.830316   \n",
       "\n",
       "                       6         7         8         9  \n",
       "percent_correct  0.88166  0.915099  0.822651  0.846041  "
      ]
     },
     "execution_count": 67,
     "metadata": {},
     "output_type": "execute_result"
    }
   ],
   "source": [
    "# compute average accuracy\n",
    "percent_correct = train_data\n",
    "percent_correct['percent_correct'] = train_data_unlabeled.apply(lambda row: row.sum() / 21,1)\n",
    "\n",
    "average_accuracy = pd.DataFrame(index=['percent_correct'])\n",
    "for i in range(10):\n",
    "    average_accuracy[i] = percent_correct.loc[percent_correct[' Label'] == i]['percent_correct'].mean()\n",
    "    \n",
    "print(f'The median accuracy is: {average_accuracy.median(axis=1)[0]}.')\n",
    "print(f'The mean accuracy is:   {average_accuracy.mean(axis=1)[0]}.')\n",
    "average_accuracy"
   ]
  },
  {
   "cell_type": "code",
   "execution_count": 47,
   "metadata": {},
   "outputs": [],
   "source": [
    "# compute accuracy of each algorithm\n"
   ]
  }
 ],
 "metadata": {
  "kernelspec": {
   "display_name": "Python 3",
   "language": "python",
   "name": "python3"
  },
  "language_info": {
   "codemirror_mode": {
    "name": "ipython",
    "version": 3
   },
   "file_extension": ".py",
   "mimetype": "text/x-python",
   "name": "python",
   "nbconvert_exporter": "python",
   "pygments_lexer": "ipython3",
   "version": "3.6.3"
  }
 },
 "nbformat": 4,
 "nbformat_minor": 2
}
